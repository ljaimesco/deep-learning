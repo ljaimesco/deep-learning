{
  "nbformat": 4,
  "nbformat_minor": 0,
  "metadata": {
    "colab": {
      "name": "mnist_keras_to_tflite.ipynb",
      "version": "0.3.2",
      "provenance": [],
      "private_outputs": true,
      "collapsed_sections": [],
      "include_colab_link": true
    },
    "kernelspec": {
      "name": "python3",
      "display_name": "Python 3"
    },
    "accelerator": "GPU"
  },
  "cells": [
    {
      "cell_type": "markdown",
      "metadata": {
        "id": "view-in-github",
        "colab_type": "text"
      },
      "source": [
        "<a href=\"https://colab.research.google.com/github/margaretmz/deep-learning/blob/master/mnist_keras_to_tflite.ipynb\" target=\"_parent\"><img src=\"https://colab.research.google.com/assets/colab-badge.svg\" alt=\"Open In Colab\"/></a>"
      ]
    },
    {
      "metadata": {
        "id": "oY3YSP69c8Hr",
        "colab_type": "text"
      },
      "cell_type": "markdown",
      "source": [
        "Margaret Maynard-Reid\n",
        "\n",
        "This notebook creates a simple CNN model to classify MNIST digit. It shows you how convert a keras model to tflite model which can be used on Android."
      ]
    },
    {
      "metadata": {
        "id": "hlD6Za2otrpz",
        "colab_type": "text"
      },
      "cell_type": "markdown",
      "source": [
        "### Installation & Imports"
      ]
    },
    {
      "metadata": {
        "id": "iKA_IsssrQcl",
        "colab_type": "code",
        "colab": {}
      },
      "cell_type": "code",
      "source": [
        "# !pip install tf-nightly-2.0-preview"
      ],
      "execution_count": 0,
      "outputs": []
    },
    {
      "metadata": {
        "id": "4Da1szfTk1Px",
        "colab_type": "code",
        "colab": {}
      },
      "cell_type": "code",
      "source": [
        "# Inport TensorFlow and tf.keras\n",
        "import tensorflow as tf\n",
        "from tensorflow import keras\n",
        "\n",
        "# Import helper libraries\n",
        "import numpy as np\n",
        "import matplotlib.pyplot as plt\n",
        "\n",
        "# Import date for tflite file name\n",
        "from datetime import date\n",
        "\n",
        "# Print TensorFlow version\n",
        "version = tf.__version__\n",
        "print(version)"
      ],
      "execution_count": 0,
      "outputs": []
    },
    {
      "metadata": {
        "id": "P4vs-cagt0XD",
        "colab_type": "text"
      },
      "cell_type": "markdown",
      "source": [
        "### Get MNIST dataset"
      ]
    },
    {
      "metadata": {
        "id": "o3tavj6Dtpx3",
        "colab_type": "code",
        "colab": {}
      },
      "cell_type": "code",
      "source": [
        "mnist = keras.datasets.mnist\n",
        "(x_train, y_train), (x_test, y_test) = mnist.load_data()\n",
        "\n",
        "print(\"x_train shape:\", x_train.shape, \"y_train shape:\", y_train.shape)"
      ],
      "execution_count": 0,
      "outputs": []
    },
    {
      "metadata": {
        "id": "0P1C_0ZXux7N",
        "colab_type": "text"
      },
      "cell_type": "markdown",
      "source": [
        "### Preprocess data"
      ]
    },
    {
      "metadata": {
        "id": "Ge0HvdoBuLg9",
        "colab_type": "code",
        "colab": {}
      },
      "cell_type": "code",
      "source": [
        "num_classes = 10\n",
        "x_train = x_train.astype('float32')\n",
        "x_test = x_test.astype('float32')\n",
        "\n",
        "# Normalize the input data\n",
        "x_train = x_train.astype('float32') / 255\n",
        "x_test = x_test.astype('float32') / 255\n",
        "\n",
        "# Reshape input data from (28, 28) to (28, 28, 1)\n",
        "w, h = 28, 28\n",
        "x_train = x_train.reshape(x_train.shape[0], w, h, 1)\n",
        "x_test = x_test.reshape(x_test.shape[0], w, h, 1)\n",
        "\n",
        "# One-hot encode the labels\n",
        "y_train = keras.utils.to_categorical(y_train, num_classes)\n",
        "y_test = keras.utils.to_categorical(y_test, num_classes)\n",
        "\n",
        "# Take a look at the dataset shape after conversion with keras.utils.to_categorical\n",
        "print(\"x_train shape:\", x_train.shape, \"y_train shape:\", y_train.shape)"
      ],
      "execution_count": 0,
      "outputs": []
    },
    {
      "metadata": {
        "id": "vKpWowmesdD4",
        "colab_type": "code",
        "colab": {}
      },
      "cell_type": "code",
      "source": [
        "x_train.shape"
      ],
      "execution_count": 0,
      "outputs": []
    },
    {
      "metadata": {
        "id": "JEkp9ZrNwCl0",
        "colab_type": "text"
      },
      "cell_type": "markdown",
      "source": [
        "### Define the model architecture"
      ]
    },
    {
      "metadata": {
        "id": "PcJmINMbvJNI",
        "colab_type": "code",
        "colab": {}
      },
      "cell_type": "code",
      "source": [
        "model = keras.Sequential()\n",
        "\n",
        "# Must define the input shape in the first layer of the neural network\n",
        "model.add(keras.layers.Conv2D(filters=32, kernel_size=3, padding='same', activation='relu', input_shape=(28,28,1))) \n",
        "model.add(keras.layers.MaxPooling2D(pool_size=2))\n",
        "model.add(keras.layers.Dropout(0.3))\n",
        "\n",
        "model.add(keras.layers.Conv2D(filters=64, kernel_size=3, padding='same', activation='relu'))\n",
        "model.add(keras.layers.MaxPooling2D(pool_size=2))\n",
        "model.add(keras.layers.Dropout(0.3))\n",
        "\n",
        "model.add(keras.layers.Flatten())\n",
        "model.add(keras.layers.Dense(128, activation='relu'))\n",
        "model.add(keras.layers.Dropout(0.5))\n",
        "model.add(keras.layers.Dense(10, activation='softmax'))\n",
        "\n",
        "# Take a look at the model summary\n",
        "model.summary()"
      ],
      "execution_count": 0,
      "outputs": []
    },
    {
      "metadata": {
        "id": "syvobkl0wPtT",
        "colab_type": "text"
      },
      "cell_type": "markdown",
      "source": [
        "### Compile the model"
      ]
    },
    {
      "metadata": {
        "id": "6enfV_hVwKLM",
        "colab_type": "code",
        "colab": {}
      },
      "cell_type": "code",
      "source": [
        "model.compile(loss=keras.losses.categorical_crossentropy,\n",
        "             optimizer=keras.optimizers.Adam(),\n",
        "             metrics=['accuracy'])"
      ],
      "execution_count": 0,
      "outputs": []
    },
    {
      "metadata": {
        "id": "o94eQubW6EMb",
        "colab_type": "text"
      },
      "cell_type": "markdown",
      "source": [
        "### Train the model"
      ]
    },
    {
      "metadata": {
        "id": "iLvBMV6ewO8H",
        "colab_type": "code",
        "colab": {}
      },
      "cell_type": "code",
      "source": [
        "# see how long it takes to train\n",
        "%%time \n",
        "model.fit(x_train,\n",
        "         y_train,\n",
        "         batch_size=64,\n",
        "         epochs=1,\n",
        "         validation_data=(x_test, y_test))"
      ],
      "execution_count": 0,
      "outputs": []
    },
    {
      "metadata": {
        "id": "1x0Cxiyb25KA",
        "colab_type": "text"
      },
      "cell_type": "markdown",
      "source": [
        "### Save a Keras model"
      ]
    },
    {
      "metadata": {
        "id": "ScdmzQPcwftI",
        "colab_type": "code",
        "colab": {}
      },
      "cell_type": "code",
      "source": [
        "# Save tf.keras model in HDF5 format\n",
        "keras_model = \"mnist_keras_model.h5\"\n",
        "keras.models.save_model(model, keras_model)"
      ],
      "execution_count": 0,
      "outputs": []
    },
    {
      "metadata": {
        "id": "yi9B0yFR5J1b",
        "colab_type": "text"
      },
      "cell_type": "markdown",
      "source": [
        " ### Convert Keras model to TensorFlow Lite model"
      ]
    },
    {
      "metadata": {
        "id": "pI8SeGfl3F4C",
        "colab_type": "code",
        "colab": {}
      },
      "cell_type": "code",
      "source": [
        "# converter=tf.contrib.lite.TocoConverter.from_keras_model_file(keras_model) # TF 1.11.0\n",
        "converter=tf.contrib.lite.TFLiteConverter.from_keras_model_file(keras_model) # TF 1.12.0\n",
        "# converter = tf.lite.TFLiteConverter.from_keras_model_file(keras_model) # TF 2.0\n",
        "tflite_model = converter.convert()\n",
        "tflite_model_file_name = \"mnist_\" + version + \"_\" + str(date.today()) + \".tflite\"\n",
        "open(tflite_model_file_name, \"wb\").write(tflite_model)"
      ],
      "execution_count": 0,
      "outputs": []
    },
    {
      "metadata": {
        "id": "2lrX0Bj97jor",
        "colab_type": "text"
      },
      "cell_type": "markdown",
      "source": [
        "### Download the tflite model for Android"
      ]
    },
    {
      "metadata": {
        "id": "o2vfLYC17c_o",
        "colab_type": "code",
        "colab": {}
      },
      "cell_type": "code",
      "source": [
        "# Take a look at the files in the directory\n",
        "import os\n",
        "os.listdir(\".\")"
      ],
      "execution_count": 0,
      "outputs": []
    },
    {
      "metadata": {
        "id": "aEyS9vie7dbv",
        "colab_type": "code",
        "colab": {}
      },
      "cell_type": "code",
      "source": [
        "# Download the .tflite model file\n",
        "from google.colab import files\n",
        "files.download(tflite_model_file_name) "
      ],
      "execution_count": 0,
      "outputs": []
    }
  ]
}